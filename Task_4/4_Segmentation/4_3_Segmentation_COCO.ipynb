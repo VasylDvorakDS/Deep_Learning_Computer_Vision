{
  "nbformat": 4,
  "nbformat_minor": 0,
  "metadata": {
    "accelerator": "GPU",
    "colab": {
      "provenance": []
    },
    "kernelspec": {
      "display_name": "Python 3",
      "language": "python",
      "name": "python3"
    },
    "language_info": {
      "codemirror_mode": {
        "name": "ipython",
        "version": 3
      },
      "file_extension": ".py",
      "mimetype": "text/x-python",
      "name": "python",
      "nbconvert_exporter": "python",
      "pygments_lexer": "ipython3",
      "version": "3.7.1"
    }
  },
  "cells": [
    {
      "cell_type": "markdown",
      "metadata": {
        "id": "-mYY42BSBOi1"
      },
      "source": [
        "# Семантическая Сегментация. Часть 3."
      ]
    },
    {
      "cell_type": "markdown",
      "metadata": {
        "id": "ty18tSuABT9X"
      },
      "source": [
        "## Переключение версии TensorFlow"
      ]
    },
    {
      "cell_type": "code",
      "metadata": {
        "id": "fS42SrF5Tm4H",
        "colab": {
          "base_uri": "https://localhost:8080/"
        },
        "outputId": "d5b3068d-9502-491c-97b7-3571e4992121"
      },
      "source": [
        "%tensorflow_version 2.x"
      ],
      "execution_count": 1,
      "outputs": [
        {
          "output_type": "stream",
          "name": "stdout",
          "text": [
            "Colab only includes TensorFlow 2.x; %tensorflow_version has no effect.\n"
          ]
        }
      ]
    },
    {
      "cell_type": "code",
      "metadata": {
        "id": "zvoeKMnP0V7j",
        "colab": {
          "base_uri": "https://localhost:8080/",
          "height": 123
        },
        "outputId": "a8ba240c-837a-47ff-f5d4-1cd6801060d2"
      },
      "source": [
        "import os\n",
        "import skimage.io as io\n",
        "import numpy as np\n",
        "\n",
        "import tensorflow as tf\n",
        "\n",
        "\"\"\"\n",
        "Пояснения к коду:\n",
        "\n",
        "1. import os\n",
        "   - Модуль os предоставляет функции для взаимодействия с операционной системой.\n",
        "   - Используется для работы с файлами и папками, например, чтения путей, создания папок и т.п.\n",
        "   - В задачах компьютерного зрения часто нужен для загрузки изображений из директорий.\n",
        "\n",
        "2. import skimage.io as io\n",
        "   - skimage (scikit-image) — библиотека для обработки изображений.\n",
        "   - Модуль io отвечает за ввод-вывод изображений.\n",
        "   - Функции этого модуля позволяют читать изображения из файлов и сохранять их.\n",
        "   - Например, io.imread('path/to/image.jpg') — загрузит изображение в виде массива пикселей.\n",
        "\n",
        "3. import numpy as np\n",
        "   - numpy — основная библиотека для научных вычислений в Python.\n",
        "   - Используется для работы с многомерными массивами данных, которые часто представляют изображения.\n",
        "   - В компьютерном зрении изображения обычно хранятся как 2D (градации серого) или 3D (цветные) numpy-массивы.\n",
        "   - np.array(...) создаёт или преобразует данные в массив numpy.\n",
        "   - Предоставляет удобные операции над массивами: математические функции, изменение формы, срезы и т.д.\n",
        "\n",
        "4. import tensorflow as tf\n",
        "   - TensorFlow — мощная библиотека для машинного обучения и нейронных сетей от Google.\n",
        "   - Используется для построения, обучения и применения моделей глубокого обучения.\n",
        "   - tf содержит множество инструментов и API для создания сложных моделей, в том числе для компьютерного зрения.\n",
        "   - TensorFlow работает с тензорами — многомерными массивами, похожими на numpy-массивы, но оптимизированными для вычислений на GPU.\n",
        "   - Позволяет автоматизировать вычисление градиентов и обучение нейросетей.\n",
        "\n",
        "Обобщение:\n",
        "- Этот код импортирует базовые библиотеки, необходимые для чтения изображений (skimage.io), работы с массивами данных (numpy), управления файлами (os) и создания/использования моделей глубокого обучения (tensorflow).\n",
        "- В компьютерном зрении именно такой набор — основа для загрузки данных и их обработки перед передачей в нейронную сеть.\n",
        "\"\"\"\n"
      ],
      "execution_count": 2,
      "outputs": [
        {
          "output_type": "execute_result",
          "data": {
            "text/plain": [
              "\"\\nПояснения к коду:\\n\\n1. import os\\n   - Модуль os предоставляет функции для взаимодействия с операционной системой.\\n   - Используется для работы с файлами и папками, например, чтения путей, создания папок и т.п.\\n   - В задачах компьютерного зрения часто нужен для загрузки изображений из директорий.\\n\\n2. import skimage.io as io\\n   - skimage (scikit-image) — библиотека для обработки изображений.\\n   - Модуль io отвечает за ввод-вывод изображений.\\n   - Функции этого модуля позволяют читать изображения из файлов и сохранять их.\\n   - Например, io.imread('path/to/image.jpg') — загрузит изображение в виде массива пикселей.\\n\\n3. import numpy as np\\n   - numpy — основная библиотека для научных вычислений в Python.\\n   - Используется для работы с многомерными массивами данных, которые часто представляют изображения.\\n   - В компьютерном зрении изображения обычно хранятся как 2D (градации серого) или 3D (цветные) numpy-массивы.\\n   - np.array(...) создаёт или преобразует данные в массив numpy.\\n   - Предоставляет удобные операции над массивами: математические функции, изменение формы, срезы и т.д.\\n\\n4. import tensorflow as tf\\n   - TensorFlow — мощная библиотека для машинного обучения и нейронных сетей от Google.\\n   - Используется для построения, обучения и применения моделей глубокого обучения.\\n   - tf содержит множество инструментов и API для создания сложных моделей, в том числе для компьютерного зрения.\\n   - TensorFlow работает с тензорами — многомерными массивами, похожими на numpy-массивы, но оптимизированными для вычислений на GPU.\\n   - Позволяет автоматизировать вычисление градиентов и обучение нейросетей.\\n\\nОбобщение:\\n- Этот код импортирует базовые библиотеки, необходимые для чтения изображений (skimage.io), работы с массивами данных (numpy), управления файлами (os) и создания/использования моделей глубокого обучения (tensorflow).\\n- В компьютерном зрении именно такой набор — основа для загрузки данных и их обработки перед передачей в нейронную сеть.\\n\""
            ],
            "application/vnd.google.colaboratory.intrinsic+json": {
              "type": "string"
            }
          },
          "metadata": {},
          "execution_count": 2
        }
      ]
    },
    {
      "cell_type": "markdown",
      "metadata": {
        "id": "-rSwyWz-BU9t"
      },
      "source": [
        "## Загрузка датасета COCO и COCO API"
      ]
    },
    {
      "cell_type": "code",
      "metadata": {
        "id": "H306Fzq_0Mzi",
        "colab": {
          "base_uri": "https://localhost:8080/"
        },
        "outputId": "42e2497f-91c7-41d1-8681-ce55ca0b9398"
      },
      "source": [
        "if 1:\n",
        "    # Создаем папку 'data' (если она уже есть, ошибок не будет из-за -p)\n",
        "    !mkdir -p data\n",
        "\n",
        "    # Загрузка файла с аннотациями COCO для train и val (комментарии означают, что загрузка изображений train2017 и val2017 отключена)\n",
        "    # !cd data && wget http://images.cocodataset.org/zips/train2017.zip\n",
        "    # !cd data && wget http://images.cocodataset.org/zips/val2017.zip\n",
        "    !cd data && wget http://images.cocodataset.org/annotations/annotations_trainval2017.zip\n",
        "\n",
        "    # Распаковка архива с аннотациями без вывода подробностей (-q — тихий режим)\n",
        "    # Аналогично, распаковка train2017.zip и val2017.zip сейчас отключена\n",
        "    # !cd data && unzip -q train2017.zip\n",
        "    # !cd data && unzip -q val2017.zip\n",
        "    !cd data && unzip -q annotations_trainval2017.zip\n",
        "\n",
        "    # Клонирование репозитория COCO API, который нужен для удобной работы с датасетом COCO\n",
        "    !cd data && git clone https://github.com/cocodataset/cocoapi\n",
        "\n",
        "    # Переходим в папку с Python API для COCO и компилируем код с помощью команды make\n",
        "    # Это подготовит необходимые Python-библиотеки для работы с COCO датасетом\n",
        "    !cd data/cocoapi/PythonAPI && make\n"
      ],
      "execution_count": 3,
      "outputs": [
        {
          "output_type": "stream",
          "name": "stdout",
          "text": [
            "--2025-07-11 17:30:42--  http://images.cocodataset.org/annotations/annotations_trainval2017.zip\n",
            "Resolving images.cocodataset.org (images.cocodataset.org)... 16.182.37.113, 16.15.184.203, 54.231.229.233, ...\n",
            "Connecting to images.cocodataset.org (images.cocodataset.org)|16.182.37.113|:80... connected.\n",
            "HTTP request sent, awaiting response... 200 OK\n",
            "Length: 252907541 (241M) [application/zip]\n",
            "Saving to: ‘annotations_trainval2017.zip’\n",
            "\n",
            "annotations_trainva 100%[===================>] 241.19M  54.9MB/s    in 4.9s    \n",
            "\n",
            "2025-07-11 17:30:47 (49.6 MB/s) - ‘annotations_trainval2017.zip’ saved [252907541/252907541]\n",
            "\n",
            "Cloning into 'cocoapi'...\n",
            "remote: Enumerating objects: 975, done.\u001b[K\n",
            "remote: Total 975 (delta 0), reused 0 (delta 0), pack-reused 975 (from 1)\u001b[K\n",
            "Receiving objects: 100% (975/975), 11.72 MiB | 32.27 MiB/s, done.\n",
            "Resolving deltas: 100% (576/576), done.\n",
            "python setup.py build_ext --inplace\n",
            "running build_ext\n",
            "Compiling pycocotools/_mask.pyx because it changed.\n",
            "[1/1] Cythonizing pycocotools/_mask.pyx\n",
            "/usr/local/lib/python3.11/dist-packages/Cython/Compiler/Main.py:381: FutureWarning: Cython directive 'language_level' not set, using '3str' for now (Py3). This has changed from earlier releases! File: /content/data/cocoapi/PythonAPI/pycocotools/_mask.pyx\n",
            "  tree = Parsing.p_module(s, pxd, full_module_name)\n",
            "building 'pycocotools._mask' extension\n",
            "creating build/temp.linux-x86_64-cpython-311/../common\n",
            "creating build/temp.linux-x86_64-cpython-311/pycocotools\n",
            "x86_64-linux-gnu-gcc -Wsign-compare -DNDEBUG -g -fwrapv -O2 -Wall -g -fstack-protector-strong -Wformat -Werror=format-security -g -fwrapv -O2 -fPIC -I/usr/local/lib/python3.11/dist-packages/numpy/_core/include -I../common -I/usr/include/python3.11 -c ../common/maskApi.c -o build/temp.linux-x86_64-cpython-311/../common/maskApi.o -Wno-cpp -Wno-unused-function -std=c99\n",
            "\u001b[01m\u001b[K../common/maskApi.c:\u001b[m\u001b[K In function ‘\u001b[01m\u001b[KrleDecode\u001b[m\u001b[K’:\n",
            "\u001b[01m\u001b[K../common/maskApi.c:46:7:\u001b[m\u001b[K \u001b[01;35m\u001b[Kwarning: \u001b[m\u001b[Kthis ‘\u001b[01m\u001b[Kfor\u001b[m\u001b[K’ clause does not guard... [\u001b[01;35m\u001b[K\u001b]8;;https://gcc.gnu.org/onlinedocs/gcc/Warning-Options.html#index-Wmisleading-indentation\u0007-Wmisleading-indentation\u001b]8;;\u0007\u001b[m\u001b[K]\n",
            "   46 |       \u001b[01;35m\u001b[Kfor\u001b[m\u001b[K( k=0; k<R[i].cnts[j]; k++ ) *(M++)=v; v=!v; }}\n",
            "      |       \u001b[01;35m\u001b[K^~~\u001b[m\u001b[K\n",
            "\u001b[01m\u001b[K../common/maskApi.c:46:49:\u001b[m\u001b[K \u001b[01;36m\u001b[Knote: \u001b[m\u001b[K...this statement, but the latter is misleadingly indented as if it were guarded by the ‘\u001b[01m\u001b[Kfor\u001b[m\u001b[K’\n",
            "   46 |       for( k=0; k<R[i].cnts[j]; k++ ) *(M++)=v; \u001b[01;36m\u001b[Kv\u001b[m\u001b[K=!v; }}\n",
            "      |                                                 \u001b[01;36m\u001b[K^\u001b[m\u001b[K\n",
            "\u001b[01m\u001b[K../common/maskApi.c:\u001b[m\u001b[K In function ‘\u001b[01m\u001b[KrleFrPoly\u001b[m\u001b[K’:\n",
            "\u001b[01m\u001b[K../common/maskApi.c:166:3:\u001b[m\u001b[K \u001b[01;35m\u001b[Kwarning: \u001b[m\u001b[Kthis ‘\u001b[01m\u001b[Kfor\u001b[m\u001b[K’ clause does not guard... [\u001b[01;35m\u001b[K\u001b]8;;https://gcc.gnu.org/onlinedocs/gcc/Warning-Options.html#index-Wmisleading-indentation\u0007-Wmisleading-indentation\u001b]8;;\u0007\u001b[m\u001b[K]\n",
            "  166 |   \u001b[01;35m\u001b[Kfor\u001b[m\u001b[K(j=0; j<k; j++) x[j]=(int)(scale*xy[j*2+0]+.5); x[k]=x[0];\n",
            "      |   \u001b[01;35m\u001b[K^~~\u001b[m\u001b[K\n",
            "\u001b[01m\u001b[K../common/maskApi.c:166:54:\u001b[m\u001b[K \u001b[01;36m\u001b[Knote: \u001b[m\u001b[K...this statement, but the latter is misleadingly indented as if it were guarded by the ‘\u001b[01m\u001b[Kfor\u001b[m\u001b[K’\n",
            "  166 |   for(j=0; j<k; j++) x[j]=(int)(scale*xy[j*2+0]+.5); \u001b[01;36m\u001b[Kx\u001b[m\u001b[K[k]=x[0];\n",
            "      |                                                      \u001b[01;36m\u001b[K^\u001b[m\u001b[K\n",
            "\u001b[01m\u001b[K../common/maskApi.c:167:3:\u001b[m\u001b[K \u001b[01;35m\u001b[Kwarning: \u001b[m\u001b[Kthis ‘\u001b[01m\u001b[Kfor\u001b[m\u001b[K’ clause does not guard... [\u001b[01;35m\u001b[K\u001b]8;;https://gcc.gnu.org/onlinedocs/gcc/Warning-Options.html#index-Wmisleading-indentation\u0007-Wmisleading-indentation\u001b]8;;\u0007\u001b[m\u001b[K]\n",
            "  167 |   \u001b[01;35m\u001b[Kfor\u001b[m\u001b[K(j=0; j<k; j++) y[j]=(int)(scale*xy[j*2+1]+.5); y[k]=y[0];\n",
            "      |   \u001b[01;35m\u001b[K^~~\u001b[m\u001b[K\n",
            "\u001b[01m\u001b[K../common/maskApi.c:167:54:\u001b[m\u001b[K \u001b[01;36m\u001b[Knote: \u001b[m\u001b[K...this statement, but the latter is misleadingly indented as if it were guarded by the ‘\u001b[01m\u001b[Kfor\u001b[m\u001b[K’\n",
            "  167 |   for(j=0; j<k; j++) y[j]=(int)(scale*xy[j*2+1]+.5); \u001b[01;36m\u001b[Ky\u001b[m\u001b[K[k]=y[0];\n",
            "      |                                                      \u001b[01;36m\u001b[K^\u001b[m\u001b[K\n",
            "\u001b[01m\u001b[K../common/maskApi.c:\u001b[m\u001b[K In function ‘\u001b[01m\u001b[KrleToString\u001b[m\u001b[K’:\n",
            "\u001b[01m\u001b[K../common/maskApi.c:212:7:\u001b[m\u001b[K \u001b[01;35m\u001b[Kwarning: \u001b[m\u001b[Kthis ‘\u001b[01m\u001b[Kif\u001b[m\u001b[K’ clause does not guard... [\u001b[01;35m\u001b[K\u001b]8;;https://gcc.gnu.org/onlinedocs/gcc/Warning-Options.html#index-Wmisleading-indentation\u0007-Wmisleading-indentation\u001b]8;;\u0007\u001b[m\u001b[K]\n",
            "  212 |       \u001b[01;35m\u001b[Kif\u001b[m\u001b[K(more) c |= 0x20; c+=48; s[p++]=c;\n",
            "      |       \u001b[01;35m\u001b[K^~\u001b[m\u001b[K\n",
            "\u001b[01m\u001b[K../common/maskApi.c:212:27:\u001b[m\u001b[K \u001b[01;36m\u001b[Knote: \u001b[m\u001b[K...this statement, but the latter is misleadingly indented as if it were guarded by the ‘\u001b[01m\u001b[Kif\u001b[m\u001b[K’\n",
            "  212 |       if(more) c |= 0x20; \u001b[01;36m\u001b[Kc\u001b[m\u001b[K+=48; s[p++]=c;\n",
            "      |                           \u001b[01;36m\u001b[K^\u001b[m\u001b[K\n",
            "\u001b[01m\u001b[K../common/maskApi.c:\u001b[m\u001b[K In function ‘\u001b[01m\u001b[KrleFrString\u001b[m\u001b[K’:\n",
            "\u001b[01m\u001b[K../common/maskApi.c:220:3:\u001b[m\u001b[K \u001b[01;35m\u001b[Kwarning: \u001b[m\u001b[Kthis ‘\u001b[01m\u001b[Kwhile\u001b[m\u001b[K’ clause does not guard... [\u001b[01;35m\u001b[K\u001b]8;;https://gcc.gnu.org/onlinedocs/gcc/Warning-Options.html#index-Wmisleading-indentation\u0007-Wmisleading-indentation\u001b]8;;\u0007\u001b[m\u001b[K]\n",
            "  220 |   \u001b[01;35m\u001b[Kwhile\u001b[m\u001b[K( s[m] ) m++; cnts=malloc(sizeof(uint)*m); m=0;\n",
            "      |   \u001b[01;35m\u001b[K^~~~~\u001b[m\u001b[K\n",
            "\u001b[01m\u001b[K../common/maskApi.c:220:22:\u001b[m\u001b[K \u001b[01;36m\u001b[Knote: \u001b[m\u001b[K...this statement, but the latter is misleadingly indented as if it were guarded by the ‘\u001b[01m\u001b[Kwhile\u001b[m\u001b[K’\n",
            "  220 |   while( s[m] ) m++; \u001b[01;36m\u001b[Kcnts\u001b[m\u001b[K=malloc(sizeof(uint)*m); m=0;\n",
            "      |                      \u001b[01;36m\u001b[K^~~~\u001b[m\u001b[K\n",
            "\u001b[01m\u001b[K../common/maskApi.c:228:5:\u001b[m\u001b[K \u001b[01;35m\u001b[Kwarning: \u001b[m\u001b[Kthis ‘\u001b[01m\u001b[Kif\u001b[m\u001b[K’ clause does not guard... [\u001b[01;35m\u001b[K\u001b]8;;https://gcc.gnu.org/onlinedocs/gcc/Warning-Options.html#index-Wmisleading-indentation\u0007-Wmisleading-indentation\u001b]8;;\u0007\u001b[m\u001b[K]\n",
            "  228 |     \u001b[01;35m\u001b[Kif\u001b[m\u001b[K(m>2) x+=(long) cnts[m-2]; cnts[m++]=(uint) x;\n",
            "      |     \u001b[01;35m\u001b[K^~\u001b[m\u001b[K\n",
            "\u001b[01m\u001b[K../common/maskApi.c:228:34:\u001b[m\u001b[K \u001b[01;36m\u001b[Knote: \u001b[m\u001b[K...this statement, but the latter is misleadingly indented as if it were guarded by the ‘\u001b[01m\u001b[Kif\u001b[m\u001b[K’\n",
            "  228 |     if(m>2) x+=(long) cnts[m-2]; \u001b[01;36m\u001b[Kcnts\u001b[m\u001b[K[m++]=(uint) x;\n",
            "      |                                  \u001b[01;36m\u001b[K^~~~\u001b[m\u001b[K\n",
            "x86_64-linux-gnu-gcc -Wsign-compare -DNDEBUG -g -fwrapv -O2 -Wall -g -fstack-protector-strong -Wformat -Werror=format-security -g -fwrapv -O2 -fPIC -I/usr/local/lib/python3.11/dist-packages/numpy/_core/include -I../common -I/usr/include/python3.11 -c pycocotools/_mask.c -o build/temp.linux-x86_64-cpython-311/pycocotools/_mask.o -Wno-cpp -Wno-unused-function -std=c99\n",
            "creating build/lib.linux-x86_64-cpython-311/pycocotools\n",
            "x86_64-linux-gnu-gcc -shared -Wl,-O1 -Wl,-Bsymbolic-functions -Wl,-Bsymbolic-functions -g -fwrapv -O2 build/temp.linux-x86_64-cpython-311/../common/maskApi.o build/temp.linux-x86_64-cpython-311/pycocotools/_mask.o -L/usr/lib/x86_64-linux-gnu -o build/lib.linux-x86_64-cpython-311/pycocotools/_mask.cpython-311-x86_64-linux-gnu.so\n",
            "copying build/lib.linux-x86_64-cpython-311/pycocotools/_mask.cpython-311-x86_64-linux-gnu.so -> pycocotools\n",
            "rm -rf build\n"
          ]
        }
      ]
    },
    {
      "cell_type": "markdown",
      "metadata": {
        "id": "y0xB9xnQBbV2"
      },
      "source": [
        "## Подготовка COCO API"
      ]
    },
    {
      "cell_type": "code",
      "metadata": {
        "id": "FLYZPXQg1m94"
      },
      "source": [
        "COCO_ROOT = './data/'  # Путь к папке с данными COCO (где лежит распакованный датасет и api)\n",
        "\n",
        "import sys  # Импортируем модуль sys для работы с системными путями\n",
        "\n",
        "# Добавляем в начало списка путей Python путь к папке с Python API COCO\n",
        "# os.path.join объединяет пути корректно для любой ОС, создавая путь './data/cocoapi/PythonAPI'\n",
        "sys.path.insert(0, os.path.join(COCO_ROOT, 'cocoapi/PythonAPI'))\n",
        "\n",
        "# Импортируем класс COCO из модуля pycocotools.coco — это основной интерфейс для работы с аннотациями COCO\n",
        "# COCO позволяет загружать аннотации, получать информацию об объектах, категориях, изображениях\n",
        "from pycocotools.coco import COCO\n"
      ],
      "execution_count": 4,
      "outputs": []
    },
    {
      "cell_type": "markdown",
      "metadata": {
        "id": "0yLcNgZOBgQ0"
      },
      "source": [
        "## Универсальный класс Dataset для сегментации"
      ]
    },
    {
      "cell_type": "code",
      "metadata": {
        "id": "bZhpoFlh1rmE"
      },
      "source": [
        "class Dataset():\n",
        "\n",
        "    def crop_images(self, img, inp_size, random_crop=False):\n",
        "        # Получаем форму изображения (высота, ширина, количество каналов)\n",
        "        shape = tf.shape(img)\n",
        "\n",
        "        # Создаем паддинг (добавление пустых пикселей) по высоте и ширине,\n",
        "        # чтобы довести изображение до размера inp_size, если оно меньше\n",
        "        pad = (\n",
        "            [0, tf.maximum(inp_size - shape[0], 0)],  # паддинг по высоте снизу\n",
        "            [0, tf.maximum(inp_size - shape[1], 0)],  # паддинг по ширине справа\n",
        "            [0, 0],                                  # без паддинга по каналам (цвету)\n",
        "        )\n",
        "        img = tf.pad(img, pad)  # добавляем паддинг к изображению\n",
        "\n",
        "        if random_crop:\n",
        "            # Если включен случайный кроп, вырезаем случайный квадрат размером inp_size x inp_size\n",
        "            img = tf.image.random_crop(img, (inp_size, inp_size, shape[2]))\n",
        "        else:\n",
        "            # Иначе делаем центральный кроп — берем центральный квадрат inp_size x inp_size\n",
        "            shape = tf.shape(img)\n",
        "            ho = (shape[0] - inp_size) // 2  # смещение по высоте от центра\n",
        "            wo = (shape[1] - inp_size) // 2  # смещение по ширине от центра\n",
        "            img = img[ho:ho+inp_size, wo:wo+inp_size, :]  # вырезаем центр\n",
        "\n",
        "        return img  # возвращаем обрезанное изображение\n",
        "\n",
        "    def train_dataset(self, batch_size, epochs, inp_size):\n",
        "\n",
        "        def item_to_images(item):\n",
        "            random_crop = True  # при обучении используем случайный кроп для аугментации данных\n",
        "            # Вызываем метод self.read_images (в другом месте класса), возвращающий изображение + маску\n",
        "            # tf.py_function позволяет вызвать обычную Python-функцию внутри tf.data\n",
        "            img_combined = tf.py_function(self.read_images, [item], tf.uint8)\n",
        "            # Обрезаем (кропим) изображение до нужного размера\n",
        "            img_combined = self.crop_images(img_combined, inp_size, random_crop)\n",
        "\n",
        "            # Отделяем первые 3 канала (RGB) и приводим к типу float32, нормируем в [0,1]\n",
        "            img = tf.cast(img_combined[...,:3], tf.float32) / np.float32(255.)\n",
        "            # Отделяем маску — 4-й канал, преобразуем к float32\n",
        "            mask_class = tf.cast(img_combined[...,3:4], tf.float32)\n",
        "            return img, mask_class  # возвращаем пару (изображение, маска)\n",
        "\n",
        "        # Создаем датасет из списка путей к изображениям (self.img_list)\n",
        "        dataset = tf.data.Dataset.from_tensor_slices(self.img_list)\n",
        "        # Перемешиваем данные для обучения\n",
        "        dataset = dataset.shuffle(buffer_size=len(self.img_list))\n",
        "        # Применяем функцию обработки (item_to_images) ко всем элементам\n",
        "        dataset = dataset.map(item_to_images)\n",
        "        # Повторяем данные заданное число эпох\n",
        "        dataset = dataset.repeat(epochs)\n",
        "        # Формируем батчи заданного размера, отбрасываем остаток\n",
        "        dataset = dataset.batch(batch_size, drop_remainder=True)\n",
        "\n",
        "        return dataset  # возвращаем готовый датасет для обучения\n",
        "\n",
        "    def val_dataset(self, batch_size, inp_size):\n",
        "\n",
        "        def item_to_images(item):\n",
        "            random_crop = False  # при валидации кроп делаем центральным для стабильности\n",
        "            img_combined = tf.py_function(self.read_images, [item], tf.uint8)\n",
        "            img_combined = self.crop_images(img_combined, inp_size, random_crop)\n",
        "\n",
        "            img = tf.cast(img_combined[...,:3], tf.float32) / np.float32(255.)\n",
        "            mask_class = tf.cast(img_combined[...,3:4], tf.float32)\n",
        "            return img, mask_class\n",
        "\n",
        "        dataset = tf.data.Dataset.from_tensor_slices(self.img_list)\n",
        "        dataset = dataset.map(item_to_images)\n",
        "        dataset = dataset.batch(batch_size, drop_remainder=True)\n",
        "\n",
        "        return dataset  # возвращаем готовый датасет для валидации\n"
      ],
      "execution_count": 5,
      "outputs": []
    },
    {
      "cell_type": "markdown",
      "metadata": {
        "id": "ZPXZGUhHBn3Q"
      },
      "source": [
        "## Класс для сегментационного датасета COCO\n",
        "Класс наследутся от универсльного `Dataset` и реализует кастомную функцию чтения данных."
      ]
    },
    {
      "cell_type": "code",
      "metadata": {
        "id": "MjYwt86l1xMt"
      },
      "source": [
        "class COCO_Dataset(Dataset):\n",
        "\n",
        "    def __init__(self, sublist):\n",
        "        # Формируем путь к аннотациям COCO (train2017 или val2017)\n",
        "        ann_file_fpath = os.path.join(COCO_ROOT, 'annotations', 'instances_' + sublist + '2017.json')\n",
        "\n",
        "        # Загружаем аннотации COCO с помощью класса COCO\n",
        "        self.coco = COCO(ann_file_fpath)\n",
        "\n",
        "        # Получаем id категорий с именем 'person' (человека)\n",
        "        self.cat_ids = self.coco.getCatIds(catNms=['person'])\n",
        "\n",
        "        # Получаем список id изображений, содержащих объекты категории 'person'\n",
        "        self.img_list = self.coco.getImgIds(catIds=self.cat_ids)\n",
        "\n",
        "    def read_images(self, img_id):\n",
        "        # img_id приходит в виде тензора, конвертируем в число Python\n",
        "        img_id = int(img_id.numpy())\n",
        "\n",
        "        # Загружаем метаданные изображения по id (список с одним элементом, берем первый)\n",
        "        img_data = self.coco.loadImgs(img_id)[0]\n",
        "\n",
        "        # Получаем относительный путь к изображению из URL (берем последние два сегмента пути)\n",
        "        img_fname = '/'.join(img_data['coco_url'].split('/')[-2:])\n",
        "\n",
        "        # Загружаем изображение с диска, путь формируем относительно COCO_ROOT\n",
        "        img = io.imread(os.path.join(COCO_ROOT, img_fname))\n",
        "\n",
        "        # Если изображение в градациях серого (2D массив), преобразуем в RGB, продублировав каналы\n",
        "        if len(img.shape) == 2:\n",
        "            img = np.tile(img[..., None], (1, 1, 3))\n",
        "\n",
        "        # Получаем id аннотаций (объектов) для данного изображения и категории 'person'\n",
        "        ann_ids = self.coco.getAnnIds(imgIds=img_data['id'], catIds=self.cat_ids, iscrowd=None)\n",
        "\n",
        "        # Загружаем сами аннотации (списки сегментаций и масок)\n",
        "        anns = self.coco.loadAnns(ann_ids)\n",
        "\n",
        "        # Создаем пустую маску (2D, размер совпадает с изображением), все нули — фон\n",
        "        mask_class = np.zeros((img.shape[0], img.shape[1]), dtype=np.uint8)\n",
        "\n",
        "        # Для каждой аннотации добавляем маску объекта к общей маске (объекты суммируются)\n",
        "        for i in range(len(anns)):\n",
        "            mask_class += self.coco.annToMask(anns[i])\n",
        "\n",
        "        # Преобразуем маску к бинарному виду: все пиксели с объектами — 1, остальные — 0\n",
        "        mask_class = (mask_class > 0).astype(np.uint8)\n",
        "\n",
        "        # Объединяем RGB изображение и маску по последнему измерению (каналы)\n",
        "        # Теперь массив имеет 4 канала: 3 для цвета + 1 для маски\n",
        "        img_combined = np.concatenate([img, mask_class[..., None]], axis=2)\n",
        "\n",
        "        # Возвращаем объединенный массив\n",
        "        return img_combined\n"
      ],
      "execution_count": 6,
      "outputs": []
    },
    {
      "cell_type": "code",
      "metadata": {
        "id": "cdevykTc1zWz",
        "colab": {
          "base_uri": "https://localhost:8080/"
        },
        "outputId": "a8a1b1c0-4e60-4221-dff3-9b5eb70c875a"
      },
      "source": [
        "COCO_dataset_train = COCO_Dataset('train')  # Создаем объект датасета для обучающей выборки COCO (train2017)\n",
        "COCO_dataset_val = COCO_Dataset('val')      # Создаем объект датасета для валидационной выборки COCO (val2017)\n"
      ],
      "execution_count": 7,
      "outputs": [
        {
          "output_type": "stream",
          "name": "stdout",
          "text": [
            "loading annotations into memory...\n",
            "Done (t=17.32s)\n",
            "creating index...\n",
            "index created!\n",
            "loading annotations into memory...\n",
            "Done (t=0.51s)\n",
            "creating index...\n",
            "index created!\n"
          ]
        }
      ]
    },
    {
      "cell_type": "code",
      "metadata": {
        "id": "1c-9GNjZJiAd"
      },
      "source": [
        "# train_ds = COCO_dataset_train.train_dataset(...)\n",
        "# val_ds = COCO_dataset_val.val_dataset(...)"
      ],
      "execution_count": 8,
      "outputs": []
    }
  ]
}