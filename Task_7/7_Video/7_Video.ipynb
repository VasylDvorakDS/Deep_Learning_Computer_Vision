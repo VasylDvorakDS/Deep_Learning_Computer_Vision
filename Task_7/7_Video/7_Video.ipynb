{
  "nbformat": 4,
  "nbformat_minor": 0,
  "metadata": {
    "colab": {
      "provenance": []
    },
    "language_info": {
      "codemirror_mode": {
        "name": "ipython",
        "version": 3
      },
      "file_extension": ".py",
      "mimetype": "text/x-python",
      "name": "python",
      "nbconvert_exporter": "python",
      "pygments_lexer": "ipython3",
      "version": "3.7.1"
    },
    "kernelspec": {
      "name": "python3",
      "display_name": "Python 3"
    },
    "accelerator": "GPU"
  },
  "cells": [
    {
      "cell_type": "markdown",
      "metadata": {
        "id": "y7c-vhTto-1_"
      },
      "source": [
        "# Обработка видео\n",
        "Классификация действий по видео\n"
      ]
    },
    {
      "cell_type": "markdown",
      "metadata": {
        "id": "JH2ri2mQTU5s"
      },
      "source": [
        "## Переключение версии TensorFlow"
      ]
    },
    {
      "cell_type": "code",
      "metadata": {
        "id": "cqhfvqRrugoS",
        "colab": {
          "base_uri": "https://localhost:8080/"
        },
        "outputId": "2b2ec4c4-a281-4dba-bc99-e6fdcf77e533"
      },
      "source": [
        "%tensorflow_version 2.x"
      ],
      "execution_count": null,
      "outputs": [
        {
          "output_type": "stream",
          "name": "stdout",
          "text": [
            "Colab only includes TensorFlow 2.x; %tensorflow_version has no effect.\n"
          ]
        }
      ]
    },
    {
      "cell_type": "code",
      "metadata": {
        "id": "iv4yU3Gb4MlY"
      },
      "source": [
        "import os               # Модуль для работы с файловой системой: создание, удаление, навигация по папкам и файлам\n",
        "import glob             # Модуль для поиска файлов по шаблону, например, все файлы с расширением .jpg в папке\n",
        "import random           # Модуль для работы со случайными числами и случайным выбором элементов из списка\n",
        "import numpy as np      # Библиотека для числовых вычислений, работы с многомерными массивами и матрицами\n",
        "import matplotlib.pyplot as plt  # Модуль для построения графиков и визуализации данных (plt — сокращение для удобства)\n",
        "import tensorflow as tf # Фреймворк для машинного обучения и создания нейронных сетей; tf — часто используемый псевдоним\n"
      ],
      "execution_count": null,
      "outputs": []
    },
    {
      "cell_type": "code",
      "source": [
        "print(tf.__version__)"
      ],
      "metadata": {
        "colab": {
          "base_uri": "https://localhost:8080/"
        },
        "id": "N2fw5P_rYIM5",
        "outputId": "d8cc367a-7c34-4c16-bfd1-b0a284a9c0dc"
      },
      "execution_count": null,
      "outputs": [
        {
          "output_type": "stream",
          "name": "stdout",
          "text": [
            "2.12.0\n"
          ]
        }
      ]
    },
    {
      "cell_type": "code",
      "metadata": {
        "id": "rEbPbpjIDV57",
        "outputId": "8434fc55-5457-42c1-e959-eb9c638cda9d",
        "colab": {
          "base_uri": "https://localhost:8080/"
        }
      },
      "source": [
        "if 1:  # Условие всегда истинно, поэтому код внутри блока выполнится всегда\n",
        "    !pip install scikit-video==1.1.11\n",
        "    # Команда для установки библиотеки scikit-video версии 1.1.11 через пакетный менеджер pip.\n",
        "    # В Jupyter или Colab символ '!' позволяет запускать команды терминала из Python.\n",
        "\n",
        "import skvideo.io\n",
        "# Импорт модуля io из библиотеки scikit-video, который используется для чтения и записи видеофайлов.\n"
      ],
      "execution_count": null,
      "outputs": [
        {
          "output_type": "stream",
          "name": "stdout",
          "text": [
            "Collecting scikit-video==1.1.11\n",
            "  Downloading scikit_video-1.1.11-py2.py3-none-any.whl (2.3 MB)\n",
            "\u001b[2K     \u001b[90m━━━━━━━━━━━━━━━━━━━━━━━━━━━━━━━━━━━━━━━━\u001b[0m \u001b[32m2.3/2.3 MB\u001b[0m \u001b[31m6.7 MB/s\u001b[0m eta \u001b[36m0:00:00\u001b[0m\n",
            "\u001b[?25hRequirement already satisfied: numpy in /usr/local/lib/python3.10/dist-packages (from scikit-video==1.1.11) (1.22.4)\n",
            "Requirement already satisfied: pillow in /usr/local/lib/python3.10/dist-packages (from scikit-video==1.1.11) (8.4.0)\n",
            "Requirement already satisfied: scipy in /usr/local/lib/python3.10/dist-packages (from scikit-video==1.1.11) (1.10.1)\n",
            "Installing collected packages: scikit-video\n",
            "Successfully installed scikit-video-1.1.11\n"
          ]
        }
      ]
    },
    {
      "cell_type": "markdown",
      "metadata": {
        "id": "gshnlHKETjEI"
      },
      "source": [
        "## Загрузка и распаковка датасета KTH"
      ]
    },
    {
      "cell_type": "code",
      "metadata": {
        "id": "oUKrI6l_1CK_",
        "colab": {
          "base_uri": "https://localhost:8080/"
        },
        "outputId": "e502af91-065a-4e65-98dd-2e29644e1abf"
      },
      "source": [
        "if 1:\n",
        "    # Условие всегда истинно, код внутри выполнится всегда.\n",
        "\n",
        "    !wget http://www.nada.kth.se/cvap/actions/walking.zip\n",
        "    # Команда для загрузки файла walking.zip с указанного URL через утилиту wget (скачивание из интернета).\n",
        "    !wget http://www.nada.kth.se/cvap/actions/jogging.zip\n",
        "    !wget http://www.nada.kth.se/cvap/actions/running.zip\n",
        "    !wget http://www.nada.kth.se/cvap/actions/boxing.zip\n",
        "    !wget http://www.nada.kth.se/cvap/actions/handwaving.zip\n",
        "    !wget http://www.nada.kth.se/cvap/actions/handclapping.zip\n",
        "    # Аналогично скачиваются другие архивы с видео различных действий.\n",
        "\n",
        "if 1:\n",
        "    # Опять же, условие всегда истинно, команды выполняются.\n",
        "\n",
        "    !jar xvf walking.zip -d walking > /dev/null\n",
        "    # Команда распаковки архива walking.zip с помощью утилиты jar.\n",
        "    # 'xvf' — параметры: x (extract), v (verbose — подробный вывод), f (filename).\n",
        "    # '-d walking' — распаковать в папку walking.\n",
        "    # '> /dev/null' — перенаправить вывод в \"никуда\", чтобы не показывать список файлов.\n",
        "\n",
        "    !unzip jogging.zip -d jogging > /dev/null\n",
        "    !unzip running.zip -d running > /dev/null\n",
        "    !unzip boxing.zip -d boxing > /dev/null\n",
        "    !unzip handwaving.zip -d handwaving > /dev/null\n",
        "    !unzip handclapping.zip -d handclapping > /dev/null\n",
        "    # Аналогично распаковываются остальные архивы с помощью утилиты unzip в соответствующие папки,\n",
        "    # при этом вывод команд скрыт с помощью '> /dev/null'.\n"
      ],
      "execution_count": null,
      "outputs": [
        {
          "output_type": "stream",
          "name": "stdout",
          "text": [
            "--2023-07-25 23:10:46--  http://www.kth.se/cvap/actions/walking.zip\n",
            "Resolving www.kth.se (www.kth.se)... 130.237.28.40, 2001:6b0:1:11c2::82ed:1c28\n",
            "Connecting to www.kth.se (www.kth.se)|130.237.28.40|:80... connected.\n",
            "HTTP request sent, awaiting response... 301 Moved Permanently\n",
            "Location: https://www.kth.se/cvap/actions/walking.zip [following]\n",
            "--2023-07-25 23:10:47--  https://www.kth.se/cvap/actions/walking.zip\n",
            "Connecting to www.kth.se (www.kth.se)|130.237.28.40|:443... connected.\n",
            "HTTP request sent, awaiting response... 404 \n",
            "2023-07-25 23:10:47 ERROR 404: (no description).\n",
            "\n",
            "URL transformed to HTTPS due to an HSTS policy\n",
            "--2023-07-25 23:10:48--  https://www.kth.se/cvap/actions/jogging.zip\n",
            "Resolving www.kth.se (www.kth.se)... 130.237.28.40, 2001:6b0:1:11c2::82ed:1c28\n",
            "Connecting to www.kth.se (www.kth.se)|130.237.28.40|:443... connected.\n",
            "HTTP request sent, awaiting response... 404 \n",
            "2023-07-25 23:10:48 ERROR 404: (no description).\n",
            "\n",
            "URL transformed to HTTPS due to an HSTS policy\n",
            "--2023-07-25 23:10:48--  https://www.kth.se/cvap/actions/running.zip\n",
            "Resolving www.kth.se (www.kth.se)... 130.237.28.40, 2001:6b0:1:11c2::82ed:1c28\n",
            "Connecting to www.kth.se (www.kth.se)|130.237.28.40|:443... connected.\n",
            "HTTP request sent, awaiting response... 404 \n",
            "2023-07-25 23:10:49 ERROR 404: (no description).\n",
            "\n",
            "URL transformed to HTTPS due to an HSTS policy\n",
            "--2023-07-25 23:10:49--  https://www.kth.se/cvap/actions/boxing.zip\n",
            "Resolving www.kth.se (www.kth.se)... 130.237.28.40, 2001:6b0:1:11c2::82ed:1c28\n",
            "Connecting to www.kth.se (www.kth.se)|130.237.28.40|:443... connected.\n",
            "HTTP request sent, awaiting response... 404 \n",
            "2023-07-25 23:10:50 ERROR 404: (no description).\n",
            "\n",
            "URL transformed to HTTPS due to an HSTS policy\n",
            "--2023-07-25 23:10:50--  https://www.kth.se/cvap/actions/handwaving.zip\n",
            "Resolving www.kth.se (www.kth.se)... 130.237.28.40, 2001:6b0:1:11c2::82ed:1c28\n",
            "Connecting to www.kth.se (www.kth.se)|130.237.28.40|:443... connected.\n",
            "HTTP request sent, awaiting response... 404 \n",
            "2023-07-25 23:10:50 ERROR 404: (no description).\n",
            "\n",
            "URL transformed to HTTPS due to an HSTS policy\n",
            "--2023-07-25 23:10:50--  https://www.kth.se/cvap/actions/handclapping.zip\n",
            "Resolving www.kth.se (www.kth.se)... 130.237.28.40, 2001:6b0:1:11c2::82ed:1c28\n",
            "Connecting to www.kth.se (www.kth.se)|130.237.28.40|:443... connected.\n",
            "HTTP request sent, awaiting response... 404 \n",
            "2023-07-25 23:10:51 ERROR 404: (no description).\n",
            "\n",
            "java.util.zip.ZipException: zip END header not found\n",
            "\tat java.base/java.util.zip.ZipFile$Source.zerror(ZipFile.java:1607)\n",
            "\tat java.base/java.util.zip.ZipFile$Source.findEND(ZipFile.java:1497)\n",
            "\tat java.base/java.util.zip.ZipFile$Source.initCEN(ZipFile.java:1504)\n",
            "\tat java.base/java.util.zip.ZipFile$Source.<init>(ZipFile.java:1308)\n",
            "\tat java.base/java.util.zip.ZipFile$Source.get(ZipFile.java:1271)\n",
            "\tat java.base/java.util.zip.ZipFile$CleanableResource.<init>(ZipFile.java:733)\n",
            "\tat java.base/java.util.zip.ZipFile$CleanableResource.get(ZipFile.java:850)\n",
            "\tat java.base/java.util.zip.ZipFile.<init>(ZipFile.java:248)\n",
            "\tat java.base/java.util.zip.ZipFile.<init>(ZipFile.java:177)\n",
            "\tat java.base/java.util.zip.ZipFile.<init>(ZipFile.java:148)\n",
            "\tat jdk.jartool/sun.tools.jar.Main.extract(Main.java:1388)\n",
            "\tat jdk.jartool/sun.tools.jar.Main.run(Main.java:403)\n",
            "\tat jdk.jartool/sun.tools.jar.Main.main(Main.java:1680)\n",
            "  End-of-central-directory signature not found.  Either this file is not\n",
            "  a zipfile, or it constitutes one disk of a multi-part archive.  In the\n",
            "  latter case the central directory and zipfile comment will be found on\n",
            "  the last disk(s) of this archive.\n",
            "unzip:  cannot find zipfile directory in one of jogging.zip or\n",
            "        jogging.zip.zip, and cannot find jogging.zip.ZIP, period.\n",
            "  End-of-central-directory signature not found.  Either this file is not\n",
            "  a zipfile, or it constitutes one disk of a multi-part archive.  In the\n",
            "  latter case the central directory and zipfile comment will be found on\n",
            "  the last disk(s) of this archive.\n",
            "unzip:  cannot find zipfile directory in one of running.zip or\n",
            "        running.zip.zip, and cannot find running.zip.ZIP, period.\n",
            "unzip:  cannot find or open boxing.zip, boxing.zip.zip or boxing.zip.ZIP.\n",
            "unzip:  cannot find or open handwaving.zip, handwaving.zip.zip or handwaving.zip.ZIP.\n",
            "unzip:  cannot find or open handclapping.zip, handclapping.zip.zip or handclapping.zip.ZIP.\n"
          ]
        }
      ]
    },
    {
      "cell_type": "code",
      "source": [
        "from google.colab import drive\n",
        "# Импорт модуля drive из пакета google.colab, который позволяет работать с Google Диском в среде Google Colab.\n",
        "\n",
        "drive.mount('/content/drive')\n",
        "# Монтирует (подключает) ваш Google Диск к виртуальной файловой системе Colab по пути '/content/drive'.\n",
        "# После этого вы сможете читать и записывать файлы на ваш диск, используя этот путь.\n",
        "# При выполнении появится окно авторизации, где нужно будет разрешить доступ.\n"
      ],
      "metadata": {
        "id": "4u_HttC4Ssej"
      },
      "execution_count": null,
      "outputs": []
    },
    {
      "cell_type": "code",
      "source": [
        "if 1:\n",
        "    # Условие всегда истинно, значит команды внутри блока будут выполнены.\n",
        "\n",
        "    !unzip walking.zip -d walking > /dev/null\n",
        "    # Распаковывает архив walking.zip в папку walking.\n",
        "    # Параметр '-d walking' указывает директорию для распаковки.\n",
        "    # '> /dev/null' подавляет вывод распаковки, чтобы не засорять консоль.\n",
        "\n",
        "    !unzip jogging.zip -d jogging > /dev/null\n",
        "    !unzip running.zip -d running > /dev/null\n",
        "    !unzip boxing.zip -d boxing > /dev/null\n",
        "    !unzip handwaving.zip -d handwaving > /dev/null\n",
        "    !unzip handclapping.zip -d handclapping > /dev/null\n",
        "    # Аналогично распаковываются другие архивы в соответствующие папки, без вывода подробностей.\n"
      ],
      "metadata": {
        "colab": {
          "base_uri": "https://localhost:8080/"
        },
        "id": "vdZtP12gQ_EI",
        "outputId": "842f7f24-8967-4a77-91b8-22702e4ed095"
      },
      "execution_count": null,
      "outputs": [
        {
          "output_type": "stream",
          "name": "stdout",
          "text": [
            "  End-of-central-directory signature not found.  Either this file is not\n",
            "  a zipfile, or it constitutes one disk of a multi-part archive.  In the\n",
            "  latter case the central directory and zipfile comment will be found on\n",
            "  the last disk(s) of this archive.\n",
            "unzip:  cannot find zipfile directory in one of walking.zip or\n",
            "        walking.zip.zip, and cannot find walking.zip.ZIP, period.\n",
            "  End-of-central-directory signature not found.  Either this file is not\n",
            "  a zipfile, or it constitutes one disk of a multi-part archive.  In the\n",
            "  latter case the central directory and zipfile comment will be found on\n",
            "  the last disk(s) of this archive.\n",
            "unzip:  cannot find zipfile directory in one of jogging.zip or\n",
            "        jogging.zip.zip, and cannot find jogging.zip.ZIP, period.\n",
            "  End-of-central-directory signature not found.  Either this file is not\n",
            "  a zipfile, or it constitutes one disk of a multi-part archive.  In the\n",
            "  latter case the central directory and zipfile comment will be found on\n",
            "  the last disk(s) of this archive.\n",
            "unzip:  cannot find zipfile directory in one of running.zip or\n",
            "        running.zip.zip, and cannot find running.zip.ZIP, period.\n",
            "  End-of-central-directory signature not found.  Either this file is not\n",
            "  a zipfile, or it constitutes one disk of a multi-part archive.  In the\n",
            "  latter case the central directory and zipfile comment will be found on\n",
            "  the last disk(s) of this archive.\n",
            "unzip:  cannot find zipfile directory in one of boxing.zip or\n",
            "        boxing.zip.zip, and cannot find boxing.zip.ZIP, period.\n",
            "  End-of-central-directory signature not found.  Either this file is not\n",
            "  a zipfile, or it constitutes one disk of a multi-part archive.  In the\n",
            "  latter case the central directory and zipfile comment will be found on\n",
            "  the last disk(s) of this archive.\n",
            "unzip:  cannot find zipfile directory in one of handwaving.zip or\n",
            "        handwaving.zip.zip, and cannot find handwaving.zip.ZIP, period.\n",
            "  End-of-central-directory signature not found.  Either this file is not\n",
            "  a zipfile, or it constitutes one disk of a multi-part archive.  In the\n",
            "  latter case the central directory and zipfile comment will be found on\n",
            "  the last disk(s) of this archive.\n",
            "unzip:  cannot find zipfile directory in one of handclapping.zip or\n",
            "        handclapping.zip.zip, and cannot find handclapping.zip.ZIP, period.\n"
          ]
        }
      ]
    },
    {
      "cell_type": "markdown",
      "metadata": {
        "id": "z9xxQH9LTsll"
      },
      "source": [
        "## Подготовка датасета для классификации"
      ]
    },
    {
      "cell_type": "code",
      "metadata": {
        "id": "xXx10w4T7JcT",
        "outputId": "9b78e092-2552-469c-ea80-12fe2eee6672",
        "colab": {
          "base_uri": "https://localhost:8080/"
        }
      },
      "source": [
        "classes = [\n",
        "    'walking',\n",
        "    'jogging',\n",
        "    'running',\n",
        "    'boxing',\n",
        "    'handwaving',\n",
        "    'handclapping',\n",
        "]\n",
        "# Список классов — типов действий, которые представлены в видео.\n",
        "# Каждый класс — это строка с названием действия.\n",
        "\n",
        "dataset = []\n",
        "# Пустой список для хранения данных: каждый элемент — кортеж (путь к видео, индекс класса).\n",
        "\n",
        "data_root = './'\n",
        "# Корневая папка с данными — текущая директория (./ означает \"здесь\").\n",
        "\n",
        "for cls in classes:\n",
        "    # Цикл по каждому классу в списке classes.\n",
        "\n",
        "    print('Processing class: {}'.format(cls))\n",
        "    # Выводит сообщение о том, какой класс сейчас обрабатывается.\n",
        "\n",
        "    for fpath in glob.glob(os.path.join(data_root, cls, '*.avi')):\n",
        "        # glob.glob ищет все файлы с расширением .avi в папке data_root/cls\n",
        "        # os.path.join соединяет части пути, учитывая особенности ОС.\n",
        "\n",
        "        cls_idx = classes.index(cls)\n",
        "        # Находит числовой индекс текущего класса в списке classes.\n",
        "        # Например, 'walking' будет 0, 'jogging' — 1 и т.д.\n",
        "\n",
        "        dataset.append((fpath, cls_idx))\n",
        "        # Добавляет в список dataset кортеж: (путь к файлу видео, индекс класса).\n",
        "        # Это удобно для обучения, чтобы знать, к какому классу относится видео.\n"
      ],
      "execution_count": null,
      "outputs": [
        {
          "output_type": "stream",
          "name": "stdout",
          "text": [
            "Processing class: walking\n",
            "Processing class: jogging\n",
            "Processing class: running\n",
            "Processing class: boxing\n",
            "Processing class: handwaving\n",
            "Processing class: handclapping\n"
          ]
        }
      ]
    },
    {
      "cell_type": "code",
      "metadata": {
        "id": "uEMpKM7F3oqv",
        "colab": {
          "base_uri": "https://localhost:8080/"
        },
        "outputId": "ba1d28b8-ee81-499a-bcd3-bbca8f19a70d"
      },
      "source": [
        "SUBSET_LEN = 180\n",
        "# Константа, определяющая длину подвыборки датасета — сколько видео файлов мы хотим использовать.\n",
        "\n",
        "random.shuffle(dataset)\n",
        "# Перемешивает список dataset случайным образом, чтобы данные не были упорядочены по классам или порядку загрузки.\n",
        "\n",
        "dataset = dataset[:SUBSET_LEN]\n",
        "# Оставляет только первые 180 элементов из перемешанного списка dataset — создает подвыборку.\n",
        "\n",
        "print('Dataset samples (subset):', len(dataset))\n",
        "# Выводит количество элементов в подвыборке dataset, чтобы проверить размер выборки.\n"
      ],
      "execution_count": null,
      "outputs": [
        {
          "output_type": "stream",
          "name": "stdout",
          "text": [
            "Dataset samples (subset): 0\n"
          ]
        }
      ]
    },
    {
      "cell_type": "code",
      "source": [
        "dataset"
      ],
      "metadata": {
        "colab": {
          "base_uri": "https://localhost:8080/"
        },
        "id": "tOzz7HYVLyjy",
        "outputId": "78aad1c5-890c-425b-dbb2-40e2894e72ef"
      },
      "execution_count": null,
      "outputs": [
        {
          "output_type": "execute_result",
          "data": {
            "text/plain": [
              "[]"
            ]
          },
          "metadata": {},
          "execution_count": 26
        }
      ]
    },
    {
      "cell_type": "markdown",
      "metadata": {
        "id": "xKecX592UCxv"
      },
      "source": [
        "## Визуализация кадра из видео"
      ]
    },
    {
      "cell_type": "code",
      "metadata": {
        "id": "SDRvDuY5VEKT",
        "colab": {
          "base_uri": "https://localhost:8080/",
          "height": 217
        },
        "outputId": "2ab4df50-6aa0-4c47-a21f-e0fc9ed2c245"
      },
      "source": [
        "videodata = skvideo.io.vread(dataset[0][0])\n",
        "# Читает видеофайл, путь к которому хранится в первом элементе списка dataset.\n",
        "# vread загружает все кадры видео в виде 4-мерного массива (num_frames, height, width, channels).\n",
        "\n",
        "videodata = videodata.astype(np.float32) / 255.\n",
        "# Преобразует данные видео из целых чисел (обычно 0-255 для цвета) в числа с плавающей точкой типа float32.\n",
        "# Делит на 255, чтобы нормализовать значения пикселей в диапазон от 0 до 1 — это удобно для нейронных сетей.\n",
        "\n",
        "print('videodata shape:', videodata.shape)\n",
        "# Выводит форму массива videodata.\n",
        "# Обычно форма (количество кадров, высота, ширина, количество цветовых каналов).\n",
        "\n",
        "plt.imshow(videodata[50, ...])\n",
        "# Показывает 50-й кадр из видео (индексация с нуля).\n",
        "# plt.imshow отображает изображение, '...' означает взять все остальные измерения для этого кадра.\n"
      ],
      "execution_count": null,
      "outputs": [
        {
          "output_type": "error",
          "ename": "IndexError",
          "evalue": "ignored",
          "traceback": [
            "\u001b[0;31m---------------------------------------------------------------------------\u001b[0m",
            "\u001b[0;31mIndexError\u001b[0m                                Traceback (most recent call last)",
            "\u001b[0;32m<ipython-input-25-6625e8868f70>\u001b[0m in \u001b[0;36m<cell line: 1>\u001b[0;34m()\u001b[0m\n\u001b[0;32m----> 1\u001b[0;31m \u001b[0mvideodata\u001b[0m \u001b[0;34m=\u001b[0m \u001b[0mskvideo\u001b[0m\u001b[0;34m.\u001b[0m\u001b[0mio\u001b[0m\u001b[0;34m.\u001b[0m\u001b[0mvread\u001b[0m\u001b[0;34m(\u001b[0m\u001b[0mdataset\u001b[0m\u001b[0;34m[\u001b[0m\u001b[0;36m0\u001b[0m\u001b[0;34m]\u001b[0m\u001b[0;34m[\u001b[0m\u001b[0;36m0\u001b[0m\u001b[0;34m]\u001b[0m\u001b[0;34m)\u001b[0m\u001b[0;34m\u001b[0m\u001b[0;34m\u001b[0m\u001b[0m\n\u001b[0m\u001b[1;32m      2\u001b[0m \u001b[0mvideodata\u001b[0m \u001b[0;34m=\u001b[0m \u001b[0mvideodata\u001b[0m\u001b[0;34m.\u001b[0m\u001b[0mastype\u001b[0m\u001b[0;34m(\u001b[0m\u001b[0mnp\u001b[0m\u001b[0;34m.\u001b[0m\u001b[0mfloat32\u001b[0m\u001b[0;34m)\u001b[0m \u001b[0;34m/\u001b[0m \u001b[0;36m255.\u001b[0m\u001b[0;34m\u001b[0m\u001b[0;34m\u001b[0m\u001b[0m\n\u001b[1;32m      3\u001b[0m \u001b[0mprint\u001b[0m\u001b[0;34m(\u001b[0m\u001b[0;34m'videodata shape:'\u001b[0m\u001b[0;34m,\u001b[0m \u001b[0mvideodata\u001b[0m\u001b[0;34m.\u001b[0m\u001b[0mshape\u001b[0m\u001b[0;34m)\u001b[0m\u001b[0;34m\u001b[0m\u001b[0;34m\u001b[0m\u001b[0m\n\u001b[1;32m      4\u001b[0m \u001b[0mplt\u001b[0m\u001b[0;34m.\u001b[0m\u001b[0mimshow\u001b[0m\u001b[0;34m(\u001b[0m\u001b[0mvideodata\u001b[0m\u001b[0;34m[\u001b[0m\u001b[0;36m50\u001b[0m\u001b[0;34m,\u001b[0m \u001b[0;34m...\u001b[0m\u001b[0;34m]\u001b[0m\u001b[0;34m)\u001b[0m\u001b[0;34m\u001b[0m\u001b[0;34m\u001b[0m\u001b[0m\n",
            "\u001b[0;31mIndexError\u001b[0m: list index out of range"
          ]
        }
      ]
    },
    {
      "cell_type": "markdown",
      "metadata": {
        "id": "ZvDqIgDKUHfj"
      },
      "source": [
        "## Визуализация \"движения\""
      ]
    },
    {
      "cell_type": "code",
      "metadata": {
        "id": "n3y0fPuExC_q"
      },
      "source": [
        "motion = np.mean(videodata[1:, ...] - videodata[:-1, ...], axis=3, keepdims=True)\n",
        "# Вычисляет разницу между соседними кадрами видео (кадр i+1 минус кадр i), чтобы оценить движение.\n",
        "# videodata[1:, ...] — все кадры, кроме первого.\n",
        "# videodata[:-1, ...] — все кадры, кроме последнего.\n",
        "# Разница показывает изменения по времени между кадрами.\n",
        "# np.mean(..., axis=3, keepdims=True) усредняет разницу по цветовому каналу (ось 3 — RGB), оставляя размерность (num_frames-1, height, width, 1).\n",
        "# keepdims=True сохраняет размерность канала для удобства.\n",
        "\n",
        "print('motion shape:', motion.shape)\n",
        "# Выводит размерность массива motion.\n",
        "# Обычно (число кадров минус 1, высота, ширина, 1).\n",
        "\n",
        "plt.imshow(motion[50, ..., 0])\n",
        "# Отображает 50-й кадр массива motion.\n",
        "# motion[50, ..., 0] — выбираем 50-й кадр, все пиксели и единственный канал (индекс 0).\n",
        "# Это показывает движение на 50-м временном интервале между кадрами.\n"
      ],
      "execution_count": null,
      "outputs": []
    },
    {
      "cell_type": "markdown",
      "metadata": {
        "id": "WMuN7QibUPJa"
      },
      "source": [
        "## Создание модели CNN"
      ]
    },
    {
      "cell_type": "code",
      "metadata": {
        "id": "-IbbBxRa3ue4"
      },
      "source": [
        "model = tf.keras.Sequential([\n",
        "    # Создание последовательной модели Keras — слои будут идти друг за другом.\n",
        "\n",
        "    tf.keras.layers.Conv3D(32, (5, 5, 5), (1, 2, 2), padding='same', activation='relu'),\n",
        "    # 3D сверточный слой с 32 фильтрами, каждый размером 5x5x5 (время, высота, ширина).\n",
        "    # strides=(1, 2, 2) — шаг свертки: 1 по времени, 2 по высоте и ширине (уменьшает пространственные размеры).\n",
        "    # padding='same' — добавляет паддинг, чтобы выход был того же размера по пространству.\n",
        "    # activation='relu' — функция активации ReLU (обнуляет отрицательные значения).\n",
        "\n",
        "    tf.keras.layers.MaxPool3D((1, 2, 2), padding='same'),\n",
        "    # Макспулинг (максимальное объединение) по объему с окном 1x2x2.\n",
        "    # Сохраняет временной размер, уменьшает пространственные размеры.\n",
        "    # padding='same' — добавляет паддинг.\n",
        "\n",
        "    tf.keras.layers.Conv3D(64, (5, 5, 5), (1, 2, 2), padding='same', activation='relu'),\n",
        "    # Второй 3D сверточный слой с 64 фильтрами и теми же параметрами размера и шага.\n",
        "\n",
        "    tf.keras.layers.MaxPool3D((1, 2, 2), padding='same'),\n",
        "    # Макспулинг как выше.\n",
        "\n",
        "    tf.keras.layers.Conv3D(64, (3, 3, 3), (1, 2, 2), padding='same', activation='relu'),\n",
        "    # Третий 3D сверточный слой с меньшим ядром 3x3x3.\n",
        "\n",
        "    tf.keras.layers.MaxPool3D((1, 2, 2), padding='same'),\n",
        "    # Макспулинг.\n",
        "\n",
        "    tf.keras.layers.Conv3D(64, (3, 3, 3), (1, 1, 1), padding='same', activation=None),\n",
        "    # Четвертый 3D сверточный слой, шаг (1,1,1) — сохраняет размер, без активации (линейный слой).\n",
        "\n",
        "    tf.keras.layers.GlobalAveragePooling3D(),\n",
        "    # Глобальный средний пуллинг по всем трем пространственным измерениям (время, высота, ширина),\n",
        "    # превращает 5D тензор в 2D (батч, количество фильтров).\n",
        "\n",
        "    tf.keras.layers.Dense(64, activation='relu'),\n",
        "    # Полносвязный слой (Dense) с 64 нейронами и ReLU активацией.\n",
        "\n",
        "    tf.keras.layers.Dense(6, activation=None),\n",
        "    # Выходной полносвязный слой с 6 нейронами — по числу классов.\n",
        "    # activation=None — линейный выход, можно использовать для логитов (например, с последующей softmax).\n",
        "])\n"
      ],
      "execution_count": null,
      "outputs": []
    },
    {
      "cell_type": "code",
      "metadata": {
        "id": "95lu1m362UNj"
      },
      "source": [
        "inp = motion[None, ...]\n",
        "# Добавляет новую ось в начало массива motion, чтобы получить 5D тензор (1, frames, height, width, channels).\n",
        "# Это нужно, потому что модель ожидает вход с размерностью (batch_size, time, height, width, channels).\n",
        "# None — эквивалентно np.newaxis, расширяет размерность.\n",
        "\n",
        "out = model(inp)\n",
        "# Пропускает вход inp через модель, получая выход (логиты или предсказания).\n",
        "\n",
        "print('Input shape:', inp.shape)\n",
        "# Выводит форму входных данных.\n",
        "# Ожидается что-то типа (1, число_кадров, высота, ширина, каналы).\n",
        "\n",
        "print('Output shape:', out.shape)\n",
        "# Выводит форму выходных данных модели.\n",
        "# Обычно (1, 6) — 1 пример в батче, 6 чисел (по числу классов).\n"
      ],
      "execution_count": null,
      "outputs": []
    },
    {
      "cell_type": "markdown",
      "metadata": {
        "id": "KRR7KDG_UTqW"
      },
      "source": [
        "## Подготовка к обучению"
      ]
    },
    {
      "cell_type": "code",
      "metadata": {
        "id": "R_IRN1KLu8YC"
      },
      "source": [
        "NUM_EPOCHS = 10\n",
        "# Количество эпох — сколько раз модель пройдет по всему обучающему набору данных.\n",
        "\n",
        "LEARNING_RATE = 0.001\n",
        "# Скорость обучения — размер шага при обновлении весов модели во время обучения.\n",
        "\n",
        "model.compile(\n",
        "    # Подготовка модели к обучению: задаются функция потерь и оптимизатор.\n",
        "\n",
        "    loss=tf.keras.losses.SparseCategoricalCrossentropy(from_logits=True),\n",
        "    # Функция потерь: разреженная кросс-энтропия для многоклассовой классификации.\n",
        "    # from_logits=True означает, что входы — необработанные логиты (без softmax).\n",
        "    # Sparse — значит, метки классов — целые числа, а не one-hot векторы.\n",
        "\n",
        "    optimizer=tf.keras.optimizers.Adam(LEARNING_RATE)\n",
        "    # Оптимизатор Adam — адаптивный метод градиентного спуска с заданной скоростью обучения.\n",
        ")\n",
        "\n",
        "writer = tf.summary.create_file_writer('logs/exp1')\n",
        "# Создает объект для записи логов TensorBoard в папку 'logs/exp1'.\n",
        "# Это позволяет визуализировать процесс обучения, метрики и графики.\n"
      ],
      "execution_count": null,
      "outputs": []
    },
    {
      "cell_type": "markdown",
      "metadata": {
        "id": "vdXWGrAMUYiK"
      },
      "source": [
        "## Цикл обучения модели"
      ]
    },
    {
      "cell_type": "code",
      "metadata": {
        "id": "D9oDlO9TYNBe"
      },
      "source": [
        "global_step = 0\n",
        "# Глобальный счетчик шагов обучения (итераций), используется для логов.\n",
        "\n",
        "for ep in range(NUM_EPOCHS):\n",
        "    # Цикл по эпохам — полный проход по датасету заданное количество раз.\n",
        "\n",
        "    for iter, (fpath, label) in enumerate(dataset):\n",
        "        # Цикл по элементам датасета, где iter — индекс итерации,\n",
        "        # fpath — путь к видео, label — числовой класс.\n",
        "\n",
        "        videodata = skvideo.io.vread(fpath)\n",
        "        # Чтение видео по пути fpath.\n",
        "\n",
        "        videodata = videodata.astype(np.float32) / 255.\n",
        "        # Преобразование к float и нормализация пикселей в [0,1].\n",
        "\n",
        "        motion = np.mean(videodata[1:, ...] - videodata[:-1, ...], axis=3, keepdims=True)\n",
        "        # Вычисление движения между соседними кадрами (усреднение по цвету).\n",
        "\n",
        "        x = motion[None, ...]\n",
        "        # Добавление измерения батча для подачи в модель.\n",
        "\n",
        "        y = np.array(label)[None, ...]\n",
        "        # Преобразование метки в массив с размерностью батча.\n",
        "\n",
        "        loss_value = model.train_on_batch(x, y)\n",
        "        # Один шаг обучения на батче x, y.\n",
        "        # Возвращает значение функции потерь после обновления весов.\n",
        "\n",
        "        if iter % 10 == 0:\n",
        "            # Каждые 10 итераций выводим прогресс.\n",
        "\n",
        "            print(f'[{ep}/{NUM_EPOCHS}][{iter}/{len(dataset)}] Loss = {loss_value}')\n",
        "            # Выводим текущую эпоху, итерацию и значение потерь.\n",
        "\n",
        "            with writer.as_default():\n",
        "                # Открываем контекст записи логов для TensorBoard.\n",
        "\n",
        "                tf.summary.scalar('loss', loss_value, global_step)\n",
        "                # Записываем значение потерь в логи с текущим global_step.\n",
        "\n",
        "        global_step += 1\n",
        "        # Увеличиваем счетчик шагов обучения.\n"
      ],
      "execution_count": null,
      "outputs": []
    },
    {
      "cell_type": "markdown",
      "metadata": {
        "id": "fsq2P31vUck6"
      },
      "source": [
        "## TensorBoard"
      ]
    },
    {
      "cell_type": "code",
      "metadata": {
        "id": "s0314NhOrkik"
      },
      "source": [
        "%load_ext tensorboard\n",
        "# Загружает расширение TensorBoard в Jupyter/Colab, чтобы можно было запускать визуализацию прямо в ноутбуке.\n",
        "\n",
        "%tensorboard --logdir logs\n",
        "# Запускает TensorBoard и указывает папку с логами ('logs'), где записаны данные обучения.\n",
        "# Позволяет интерактивно смотреть графики потерь, метрики и другие данные обучения в браузере или ноутбуке.\n"
      ],
      "execution_count": null,
      "outputs": []
    },
    {
      "cell_type": "markdown",
      "metadata": {
        "id": "e2b00AJ_Uewn"
      },
      "source": [
        "## Тестирование обученной модели"
      ]
    },
    {
      "cell_type": "code",
      "metadata": {
        "id": "K9vCpQooqPbz"
      },
      "source": [
        "fpath, cls_true = random.choice(dataset)\n",
        "# Случайно выбирает один элемент из датасета: путь к видео (fpath) и настоящий класс (cls_true).\n",
        "\n",
        "videodata = skvideo.io.vread(fpath)\n",
        "# Считывает видео по выбранному пути.\n",
        "\n",
        "videodata = videodata.astype(np.float32) / 255.\n",
        "# Преобразует видео в формат float32 и нормализует пиксели в диапазон [0,1].\n",
        "\n",
        "plt.imshow(videodata[30, ...])\n",
        "# Отображает 30-й кадр видео для визуальной проверки.\n",
        "\n",
        "motion = np.mean(videodata[1:, ...] - videodata[:-1, ...], axis=3, keepdims=True)\n",
        "# Вычисляет движение между соседними кадрами (усреднение по каналам цвета).\n",
        "\n",
        "out = model(motion[None, ...])[0]\n",
        "# Пропускает движение через модель, добавляя размер батча.\n",
        "# Берет первый элемент результата (поскольку батч из одного примера).\n",
        "\n",
        "cls_pred = np.argmax(out.numpy())\n",
        "# Преобразует результат в numpy-массив и выбирает индекс класса с максимальным значением (предсказание).\n",
        "\n",
        "print('True class:', classes[cls_true])\n",
        "# Выводит настоящий класс видео.\n",
        "\n",
        "print('Predicted class:', classes[cls_pred])\n",
        "# Выводит класс, предсказанный моделью.\n"
      ],
      "execution_count": null,
      "outputs": []
    },
    {
      "cell_type": "code",
      "metadata": {
        "id": "NbveCKhEtKLK"
      },
      "source": [],
      "execution_count": null,
      "outputs": []
    }
  ]
}