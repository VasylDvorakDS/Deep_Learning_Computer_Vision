{
  "nbformat": 4,
  "nbformat_minor": 0,
  "metadata": {
    "kernelspec": {
      "name": "python3",
      "display_name": "Python 3"
    },
    "language_info": {
      "codemirror_mode": {
        "name": "ipython",
        "version": 3
      },
      "file_extension": ".py",
      "mimetype": "text/x-python",
      "name": "python",
      "nbconvert_exporter": "python",
      "pygments_lexer": "ipython3",
      "version": "3.7.1"
    },
    "colab": {
      "provenance": []
    },
    "accelerator": "GPU"
  },
  "cells": [
    {
      "cell_type": "markdown",
      "metadata": {
        "id": "wVsiOtnw65OQ"
      },
      "source": [
        "# Семантическая Сегментация. Часть 2."
      ]
    },
    {
      "cell_type": "code",
      "metadata": {
        "id": "982oMTcKUHNA",
        "outputId": "8efb2af7-05ae-4a98-f200-8ae2c10b5e1b",
        "colab": {
          "base_uri": "https://localhost:8080/"
        }
      },
      "source": [
        "%tensorflow_version 2.x"
      ],
      "execution_count": 3,
      "outputs": [
        {
          "output_type": "stream",
          "name": "stdout",
          "text": [
            "Colab only includes TensorFlow 2.x; %tensorflow_version has no effect.\n"
          ]
        }
      ]
    },
    {
      "cell_type": "code",
      "metadata": {
        "id": "gaMg5neBLpir"
      },
      "source": [
        "import tensorflow as tf\n",
        "# Импортируем библиотеку TensorFlow — мощный фреймворк для создания и обучения нейронных сетей.\n",
        "# Включает инструменты для построения моделей, оптимизации, работы с данными и многого другого.\n"
      ],
      "execution_count": 4,
      "outputs": []
    },
    {
      "cell_type": "markdown",
      "metadata": {
        "id": "bRGAiaSk6_Gj"
      },
      "source": [
        "## Модель ASPP"
      ]
    },
    {
      "cell_type": "code",
      "metadata": {
        "id": "xRU14xxDLpje"
      },
      "source": [
        "class ASPPBlock(tf.keras.Model):\n",
        "    def __init__(self):\n",
        "        super().__init__()\n",
        "        # 1x1 convolution: kernel size (1,1) — применяет свертку на каждый пиксель отдельно,\n",
        "        # 256 фильтров — количество выходных каналов, padding='same' — сохраняет размер входа,\n",
        "        # activation='relu' — функция активации, добавляет нелинейность, помогает модели учить сложные зависимости\n",
        "        self.conv1 = tf.keras.layers.Conv2D(256, (1, 1), padding='same', activation='relu')\n",
        "\n",
        "        # 3x3 сверточный слой с dilation_rate=6 (расширенная свертка):\n",
        "        # dilation_rate — увеличивает размер поля обзора ядра без уменьшения размера выхода,\n",
        "        # padding='same' — сохраняет размер,\n",
        "        # активация ReLU — для нелинейности\n",
        "        self.conv2 = tf.keras.layers.Conv2D(256, (3, 3), dilation_rate=6, padding='same', activation='relu')\n",
        "\n",
        "        # Аналогично предыдущему, но dilation_rate=12 — еще больше расширяет поле обзора,\n",
        "        # чтобы сеть могла видеть более крупный контекст\n",
        "        self.conv3 = tf.keras.layers.Conv2D(256, (3, 3), dilation_rate=12, padding='same', activation='relu')\n",
        "\n",
        "        # Еще более расширенное поле обзора — dilation_rate=18,\n",
        "        # это помогает захватывать многоуровневые масштабные признаки изображения\n",
        "        self.conv4 = tf.keras.layers.Conv2D(256, (3, 3), dilation_rate=18, padding='same', activation='relu')\n",
        "\n",
        "        # Финальный 1x1 свертка, чтобы объединить все полученные признаки в 256 каналов,\n",
        "        # снова с активацией ReLU для усиления выражения признаков\n",
        "        self.conv5 = tf.keras.layers.Conv2D(256, (1, 1), padding='same', activation='relu')\n",
        "\n",
        "    def call(self, inp, is_training=False):\n",
        "        # Применяем все четыре сверточных слоя к входу независимо, получая 4 разных набора признаков\n",
        "        out1 = self.conv1(inp)\n",
        "        out2 = self.conv2(inp)\n",
        "        out3 = self.conv3(inp)\n",
        "        out4 = self.conv4(inp)\n",
        "\n",
        "        # Объединяем эти 4 набора признаков по канальному измерению (axis=3 — последний размер),\n",
        "        # таким образом сеть может использовать информацию с разных масштабов\n",
        "        out = tf.concat([out1, out2, out3, out4], axis=3)\n",
        "\n",
        "        # Пропускаем объединённые признаки через последний 1x1 слой, чтобы уменьшить размерность и улучшить представление\n",
        "        out = self.conv5(out)\n",
        "        return out\n",
        "\n",
        "\n",
        "class ASPPNet(tf.keras.Model):\n",
        "    def __init__(self):\n",
        "        super().__init__()\n",
        "        # Несколько сверточных слоев с ядрами 3x3, padding='same' сохраняет пространственный размер,\n",
        "        # количество фильтров растет, чтобы увеличить глубину и выраженность признаков,\n",
        "        # активация ReLU — для нелинейного обучения сложных признаков\n",
        "        self.conv1 = tf.keras.layers.Conv2D(64, (3, 3), padding='same', activation='relu')\n",
        "        self.conv2 = tf.keras.layers.Conv2D(64, (3, 3), padding='same', activation='relu')\n",
        "        self.conv3 = tf.keras.layers.Conv2D(128, (3, 3), padding='same', activation='relu')\n",
        "        self.conv4 = tf.keras.layers.Conv2D(128, (3, 3), padding='same', activation='relu')\n",
        "        self.conv5 = tf.keras.layers.Conv2D(256, (3, 3), padding='same', activation='relu')\n",
        "        self.conv6 = tf.keras.layers.Conv2D(256, (3, 3), padding='same', activation='relu')\n",
        "        self.conv7 = tf.keras.layers.Conv2D(512, (3, 3), padding='same', activation='relu')\n",
        "        self.conv8 = tf.keras.layers.Conv2D(512, (3, 3), padding='same', activation='relu')\n",
        "        self.conv9 = tf.keras.layers.Conv2D(512, (3, 3), padding='same', activation='relu')\n",
        "        self.conv10 = tf.keras.layers.Conv2D(512, (3, 3), padding='same', activation='relu')\n",
        "\n",
        "        # 1x1 свертка с 48 фильтрами — уменьшает количество каналов для облегчения слияния признаков\n",
        "        self.conv11 = tf.keras.layers.Conv2D(48, (1, 1), padding='same', activation='relu')\n",
        "\n",
        "        # Два 3x3 слоя с 256 фильтрами для дообработки и улучшения признаков после слияния\n",
        "        self.conv12 = tf.keras.layers.Conv2D(256, (3, 3), padding='same', activation='relu')\n",
        "        self.conv13 = tf.keras.layers.Conv2D(256, (3, 3), padding='same', activation='relu')\n",
        "\n",
        "        # Финальный 1x1 слой с одним фильтром для вывода карты сегментации,\n",
        "        # без активации, так как функция активации (сигмоида) применяется позже\n",
        "        self.conv14 = tf.keras.layers.Conv2D(1, (1, 1), padding='same', activation=None)\n",
        "\n",
        "        # Макспулинг с ядром 2x2 и шагом 2x2 уменьшает ширину и высоту в 2 раза,\n",
        "        # padding='same' округляет размер вверх при необходимости\n",
        "        self.maxpool = tf.keras.layers.MaxPooling2D((2, 2), (2, 2), padding='same')\n",
        "\n",
        "        # ASPP блок для захвата признаков на нескольких масштабах в глубине сети\n",
        "        self.aspp = ASPPBlock()\n",
        "\n",
        "    def call(self, x):\n",
        "        # Последовательно применяем сверточные слои и слои макспулинга\n",
        "        out = self.conv1(x)\n",
        "        out = self.conv2(out)\n",
        "        out = self.maxpool(out)  # уменьшаем размер\n",
        "\n",
        "        out = self.conv3(out)\n",
        "        out = self.conv4(out)\n",
        "        out = self.maxpool(out)  # уменьшаем размер\n",
        "\n",
        "        out = self.conv5(out)\n",
        "        out = self.conv6(out)\n",
        "        out_enc_mid = out  # сохраняем для пропуска (skip connection)\n",
        "\n",
        "        out = self.maxpool(out)  # уменьшаем размер\n",
        "\n",
        "        out = self.conv7(out)\n",
        "        out = self.conv8(out)\n",
        "        out = self.maxpool(out)  # уменьшаем размер\n",
        "\n",
        "        out = self.conv9(out)\n",
        "        out = self.conv10(out)\n",
        "\n",
        "        # Применяем ASPP блок для объединения контекстной информации разных масштабов\n",
        "        out = self.aspp(out)\n",
        "\n",
        "        # Изменяем размер выхода ASPP блока до размера промежуточного признака для слияния\n",
        "        # Используем билинейную интерполяцию для плавного масштабирования\n",
        "        out = tf.image.resize(out, tf.shape(out_enc_mid)[1:3], tf.image.ResizeMethod.BILINEAR)\n",
        "\n",
        "        # Уменьшаем число каналов сохраненного промежуточного признака для слияния\n",
        "        out_enc_mid = self.conv11(out_enc_mid)\n",
        "\n",
        "        # Объединяем по каналам (axis=3) два тензора: выход ASPP и уменьшенный промежуточный признак\n",
        "        out = tf.concat([out, out_enc_mid], axis=3)\n",
        "\n",
        "        # Два сверточных слоя для уточнения и дообработки объединённых признаков\n",
        "        out = self.conv12(out)\n",
        "        out = self.conv13(out)\n",
        "\n",
        "        # Финальный 1x1 слой для получения одноканальной карты (например, маски сегментации)\n",
        "        out = self.conv14(out)\n",
        "\n",
        "        # Масштабируем карту обратно к исходному размеру входного изображения\n",
        "        out = tf.image.resize(out, tf.shape(x)[1:3], tf.image.ResizeMethod.BILINEAR)\n",
        "\n",
        "        # Применяем сигмоидальную активацию, чтобы получить вероятности (от 0 до 1)\n",
        "        # Обычно для бинарной сегментации (фон/объект)\n",
        "        out = tf.nn.sigmoid(out)\n",
        "\n",
        "        return out\n",
        "\n",
        "# Создание экземпляра модели, которая готова к обучению или предсказанию\n",
        "model = ASPPNet()\n"
      ],
      "execution_count": 5,
      "outputs": []
    }
  ]
}